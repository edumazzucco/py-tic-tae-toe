{
 "cells": [
  {
   "cell_type": "code",
   "execution_count": 1,
   "id": "2fe8e1f5",
   "metadata": {},
   "outputs": [],
   "source": [
    "def display(row1, row2, row3):\n",
    "    print(row1)\n",
    "    print(row2)\n",
    "    print(row3)"
   ]
  },
  {
   "cell_type": "code",
   "execution_count": 2,
   "id": "300d1358",
   "metadata": {},
   "outputs": [],
   "source": [
    "example_row1 = [1,2,3]\n",
    "example_row2 = [4,5,6]\n",
    "example_row3 = [7,8,9]"
   ]
  },
  {
   "cell_type": "code",
   "execution_count": 3,
   "id": "e4daa010",
   "metadata": {},
   "outputs": [
    {
     "name": "stdout",
     "output_type": "stream",
     "text": [
      "[1, 2, 3]\n",
      "[4, 5, 6]\n",
      "[7, 8, 9]\n"
     ]
    }
   ],
   "source": [
    "display(example_row1, example_row2, example_row3)"
   ]
  },
  {
   "cell_type": "code",
   "execution_count": 4,
   "id": "1f193068",
   "metadata": {},
   "outputs": [],
   "source": [
    "example_row2[1] = 'X'"
   ]
  },
  {
   "cell_type": "code",
   "execution_count": null,
   "id": "6048f965",
   "metadata": {},
   "outputs": [],
   "source": []
  }
 ],
 "metadata": {
  "kernelspec": {
   "display_name": "Python 3.9.13 64-bit",
   "language": "python",
   "name": "python3"
  },
  "language_info": {
   "codemirror_mode": {
    "name": "ipython",
    "version": 3
   },
   "file_extension": ".py",
   "mimetype": "text/x-python",
   "name": "python",
   "nbconvert_exporter": "python",
   "pygments_lexer": "ipython3",
   "version": "3.9.13"
  },
  "vscode": {
   "interpreter": {
    "hash": "b0fa6594d8f4cbf19f97940f81e996739fb7646882a419484c72d19e05852a7e"
   }
  }
 },
 "nbformat": 4,
 "nbformat_minor": 5
}
