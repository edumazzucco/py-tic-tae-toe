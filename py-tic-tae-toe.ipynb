{
 "cells": [
  {
   "cell_type": "code",
   "execution_count": null,
   "id": "2fe8e1f5",
   "metadata": {},
   "outputs": [],
   "source": [
    "def display(row1, row2, row3):\n",
    "    print(row1)\n",
    "    print(row2)\n",
    "    print(row3)"
   ]
  },
  {
   "cell_type": "code",
   "execution_count": null,
   "id": "300d1358",
   "metadata": {},
   "outputs": [],
   "source": [
    "example_row1 = [1,2,3]\n",
    "example_row2 = [4,5,6]\n",
    "example_row3 = [7,8,9]"
   ]
  },
  {
   "cell_type": "code",
   "execution_count": null,
   "id": "e4daa010",
   "metadata": {},
   "outputs": [],
   "source": [
    "display(example_row1, example_row2, example_row3)"
   ]
  },
  {
   "cell_type": "code",
   "execution_count": null,
   "id": "1f193068",
   "metadata": {},
   "outputs": [],
   "source": [
    "example_row2[1] = 'X'"
   ]
  },
  {
   "cell_type": "code",
   "execution_count": null,
   "id": "6048f965",
   "metadata": {},
   "outputs": [],
   "source": [
    "result = input(\"Please enter a number: \")"
   ]
  },
  {
   "cell_type": "code",
   "execution_count": null,
   "id": "7e1ab3ff",
   "metadata": {},
   "outputs": [],
   "source": [
    "result"
   ]
  },
  {
   "cell_type": "code",
   "execution_count": null,
   "id": "d2060422",
   "metadata": {},
   "outputs": [],
   "source": [
    "int_result = int(result)"
   ]
  },
  {
   "cell_type": "code",
   "execution_count": null,
   "id": "b2c8bae2",
   "metadata": {},
   "outputs": [],
   "source": [
    "int_result"
   ]
  },
  {
   "cell_type": "code",
   "execution_count": null,
   "id": "8c716a44",
   "metadata": {},
   "outputs": [],
   "source": [
    "position_index = int(input(\"Choose an index position for your play: \"))"
   ]
  },
  {
   "cell_type": "code",
   "execution_count": null,
   "id": "8eda1ad8",
   "metadata": {},
   "outputs": [],
   "source": [
    "position_index"
   ]
  },
  {
   "cell_type": "code",
   "execution_count": null,
   "id": "31f5e3c1",
   "metadata": {},
   "outputs": [],
   "source": [
    "def user_choice():\n",
    "    \n",
    "    choice = 'Wrong input'\n",
    "    acceptable_values = [1,2,3,4,5,6,7,8,9]\n",
    "    \n",
    "    while choice.isdigit() == False and choice not in acceptable_values:\n",
    "        \n",
    "        choice = input(\"Enter a number between 1-9:\")\n",
    "        \n",
    "        if choice.isdigit() == False:\n",
    "            print(\"Wrong input!\")\n",
    "        \n",
    "    return int(choice)"
   ]
  },
  {
   "cell_type": "code",
   "execution_count": null,
   "id": "611c3ba4",
   "metadata": {},
   "outputs": [],
   "source": [
    "user_choice()"
   ]
  },
  {
   "cell_type": "code",
   "execution_count": null,
   "id": "179d9135",
   "metadata": {},
   "outputs": [],
   "source": [
    "def user_choice2():\n",
    "    \n",
    "    # SCAFFOLDING\n",
    "    \n",
    "    # Variables\n",
    "    # Initial values\n",
    "    choice = 'Wrong input'\n",
    "    acceptable_values = [1,2,3,4,5,6,7,8,9]\n",
    "    \n",
    "    # Conditionals\n",
    "\n",
    "    # Digit and range check\n",
    "    while (choice.isdigit() == False) and (choice not in acceptable_values):\n",
    "        \n",
    "        choice = input(\"Enter a number between 1-9:\")\n",
    "        \n",
    "        \n",
    "        if choice.isdigit() and int(choice) in acceptable_values:      \n",
    "            return int(choice)\n",
    "        else:\n",
    "            print(\"Not a valid number\")\n",
    "            user_choice2()"
   ]
  },
  {
   "cell_type": "code",
   "execution_count": null,
   "id": "f3a8ef08",
   "metadata": {},
   "outputs": [],
   "source": [
    "user_choice2()"
   ]
  },
  {
   "cell_type": "code",
   "execution_count": null,
   "id": "a992870e",
   "metadata": {},
   "outputs": [],
   "source": [
    "choice"
   ]
  },
  {
   "cell_type": "code",
   "execution_count": null,
   "id": "3024b9de",
   "metadata": {},
   "outputs": [],
   "source": []
  }
 ],
 "metadata": {
  "kernelspec": {
   "display_name": "Python 3 (ipykernel)",
   "language": "python",
   "name": "python3"
  },
  "language_info": {
   "codemirror_mode": {
    "name": "ipython",
    "version": 3
   },
   "file_extension": ".py",
   "mimetype": "text/x-python",
   "name": "python",
   "nbconvert_exporter": "python",
   "pygments_lexer": "ipython3",
   "version": "3.9.12"
  },
  "vscode": {
   "interpreter": {
    "hash": "b0fa6594d8f4cbf19f97940f81e996739fb7646882a419484c72d19e05852a7e"
   }
  }
 },
 "nbformat": 4,
 "nbformat_minor": 5
}
